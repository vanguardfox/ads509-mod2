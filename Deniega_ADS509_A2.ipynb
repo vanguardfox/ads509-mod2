{
 "cells": [
  {
   "cell_type": "markdown",
   "id": "7f79baf9",
   "metadata": {},
   "source": [
    "# ADS 509 Assignment 2.1: Tokenization, Normalization, Descriptive Statistics \n",
    "\n",
    "This notebook holds Assignment 2.1 for Module 2 in ADS 509, Applied Text Mining. Work through this notebook, writing code and answering questions where required. \n",
    "\n",
    "In the previous assignment you pulled lyrics data on two artists. In this assignment we explore this data set and a pull from the now-defunct Twitter API for the artists Cher and Robyn.  If, for some reason, you did not complete that previous assignment, data to use for this assignment can be found in the assignment materials section of Canvas. \n",
    "\n",
    "This assignment asks you to write a short function to calculate some descriptive statistics on a piece of text. Then you are asked to find some interesting and unique statistics on your corpora. \n"
   ]
  },
  {
   "cell_type": "markdown",
   "id": "aae8e2e1",
   "metadata": {},
   "source": [
    "## General Assignment Instructions\n",
    "\n",
    "These instructions are included in every assignment, to remind you of the coding standards for the class. Feel free to delete this cell after reading it. \n",
    "\n",
    "One sign of mature code is conforming to a style guide. We recommend the [Google Python Style Guide](https://google.github.io/styleguide/pyguide.html). If you use a different style guide, please include a cell with a link. \n",
    "\n",
    "Your code should be relatively easy-to-read, sensibly commented, and clean. Writing code is a messy process, so please be sure to edit your final submission. Remove any cells that are not needed or parts of cells that contain unnecessary code. Remove inessential `import` statements and make sure that all such statements are moved into the designated cell. \n",
    "\n",
    "Make use of non-code cells for written commentary. These cells should be grammatical and clearly written. In some of these cells you will have questions to answer. The questions will be marked by a \"Q:\" and will have a corresponding \"A:\" spot for you. *Make sure to answer every question marked with a `Q:` for full credit.* \n"
   ]
  },
  {
   "cell_type": "code",
   "execution_count": 1,
   "id": "e2d096b7",
   "metadata": {},
   "outputs": [],
   "source": [
    "import os\n",
    "import re\n",
    "import emoji\n",
    "import pandas as pd\n",
    "import numpy as np\n",
    "\n",
    "from collections import Counter\n",
    "from nltk.corpus import stopwords # Need to comment and download stopwords (below) first\n",
    "from string import punctuation"
   ]
  },
  {
   "cell_type": "code",
   "execution_count": 2,
   "id": "6b555ab2",
   "metadata": {},
   "outputs": [],
   "source": [
    "# Add any additional import statements you need here\n",
    "# import nltk\n",
    "# nltk.download('stopwords')\n",
    "import string\n",
    "from nltk.tokenize import word_tokenize\n",
    "import matplotlib.pyplot as plt"
   ]
  },
  {
   "cell_type": "code",
   "execution_count": 3,
   "id": "923b5a86",
   "metadata": {},
   "outputs": [],
   "source": [
    "# change `data_location` to the location of the folder on your machine.\n",
    "data_location = os.path.expanduser(\"~/Desktop/usd_ADS/github/ads509-mod2/M1_Results/\")\n",
    "\n",
    "# These subfolders should still work if you correctly stored the \n",
    "# data from the Module 1 assignment\n",
    "twitter_folder = \"twitter/\"\n",
    "lyrics_folder = \"lyrics/\""
   ]
  },
  {
   "cell_type": "code",
   "execution_count": 4,
   "id": "06522af9",
   "metadata": {},
   "outputs": [],
   "source": [
    "def descriptive_stats(tokens, num_tokens = 5, verbose=True) :\n",
    "    \"\"\"\n",
    "        Given a list of tokens, print number of tokens, number of unique tokens, \n",
    "        number of characters, lexical diversity (https://en.wikipedia.org/wiki/Lexical_diversity), \n",
    "        and num_tokens most common tokens. Return a list with the number of tokens, number\n",
    "        of unique tokens, lexical diversity, and number of characters. \n",
    "    \n",
    "    \"\"\"\n",
    "\n",
    "    # Fill in the correct values here. \n",
    "    num_tokens = len(tokens)\n",
    "    num_unique_tokens = len(set(tokens))\n",
    "    lexical_diversity = num_unique_tokens / num_tokens\n",
    "    num_characters = sum(len(token) for token in tokens)\n",
    "\n",
    "    most_common_tokens = Counter(tokens).most_common(num_tokens)\n",
    "    \n",
    "    if verbose :        \n",
    "        print(f\"There are {num_tokens} tokens in the data.\")\n",
    "        print(f\"There are {num_unique_tokens} unique tokens in the data.\")\n",
    "        print(f\"There are {num_characters} characters in the data.\")\n",
    "        print(f\"The lexical diversity is {lexical_diversity:.3f} in the data.\")\n",
    "           \n",
    "        print(f\"The five most common tokens are:\") # print the five most common tokens \n",
    "        for token, count in most_common_tokens[:5]:\n",
    "            print(f\"{token}: {count}\")\n",
    "        print(\"\\n\")\n",
    "    return([num_tokens, num_unique_tokens,\n",
    "            lexical_diversity,\n",
    "            num_characters])\n",
    "    "
   ]
  },
  {
   "cell_type": "code",
   "execution_count": 5,
   "id": "59dcf058",
   "metadata": {},
   "outputs": [
    {
     "name": "stdout",
     "output_type": "stream",
     "text": [
      "There are 13 tokens in the data.\n",
      "There are 9 unique tokens in the data.\n",
      "There are 55 characters in the data.\n",
      "The lexical diversity is 0.692 in the data.\n",
      "The five most common tokens are:\n",
      "text: 3\n",
      "here: 2\n",
      "example: 2\n",
      "is: 1\n",
      "some: 1\n",
      "\n",
      "\n"
     ]
    }
   ],
   "source": [
    "text = \"\"\"here is some example text with other example text here in this text\"\"\".split()\n",
    "assert(descriptive_stats(text, verbose=True)[0] == 13)\n",
    "assert(descriptive_stats(text, verbose=False)[1] == 9)\n",
    "assert(abs(descriptive_stats(text, verbose=False)[2] - 0.69) < 0.02)\n",
    "assert(descriptive_stats(text, verbose=False)[3] == 55)\n"
   ]
  },
  {
   "cell_type": "markdown",
   "id": "d2e7e1a2",
   "metadata": {},
   "source": [
    "Q: Why is it beneficial to use assertion statements in your code? \n",
    "\n",
    "A: Assertion statements are beneficial in checking for values and possible errors that may arise when testing conditional statements. In the case of this sample text test, the assert allows the descriptive_stats function to assume or force the value of each of its expected output fields where only to standard output will the statement with verbose print the descriptive statistics. If there conditional inside the assert statement evaluates to false, then an error would be raised to help identify where to correct possible vulnerable logic."
   ]
  },
  {
   "cell_type": "markdown",
   "id": "9d3bf93e",
   "metadata": {},
   "source": [
    "## Data Input\n",
    "\n",
    "Now read in each of the corpora. For the lyrics data, it may be convenient to store the entire contents of the file to make it easier to inspect the titles individually, as you'll do in the last part of the assignment. In the solution, I stored the lyrics data in a dictionary with two dimensions of keys: artist and song. The value was the file contents. A data frame would work equally well. \n",
    "\n",
    "For the Twitter data, we only need the description field for this assignment. Feel free all the descriptions read it into a data structure. In the solution, I stored the descriptions as a dictionary of lists, with the key being the artist. \n",
    "\n",
    "\n"
   ]
  },
  {
   "cell_type": "markdown",
   "id": "e5640bf4-de03-47a8-ba0c-415d3e5c75ee",
   "metadata": {},
   "source": [
    "### Reference\n",
    "\n",
    "Python | remove punctuation from string. (2023, July 11). GeeksforGeeks. Retrieved September 15, 2024, from https://www.geeksforgeeks.org/python-remove-punctuation-from-string/"
   ]
  },
  {
   "cell_type": "markdown",
   "id": "19b45218-1265-4694-a072-928d11d2eac5",
   "metadata": {},
   "source": [
    "### Read in lyrics data"
   ]
  },
  {
   "cell_type": "code",
   "execution_count": 6,
   "id": "37d70801",
   "metadata": {},
   "outputs": [],
   "source": [
    "# Read in the lyrics data as a data frame with artist and song as multi-index and lyrics as the value\n",
    "lyrics_path = os.path.join(data_location, lyrics_folder)\n",
    "data = []\n",
    "punctuation = string.punctuation + \"'\" # adding because it is one of the top tokens\n",
    "sans_punct = str.maketrans('', '', string.punctuation) # Clean punctuation\n",
    "for artist_folder in os.listdir(lyrics_path):\n",
    "    artist_path = os.path.join(lyrics_path, artist_folder)\n",
    "    if os.path.isdir(artist_path):\n",
    "        for filename in os.listdir(artist_path):\n",
    "            if filename.endswith(\".txt\"):\n",
    "                file_path = os.path.join(artist_path, filename)\n",
    "                with open(file_path, 'r', encoding='utf-8') as file:\n",
    "                    content = file.read()\n",
    "                    lines = content.split('\\n')\n",
    "                    song_title = lines[0].strip('\"') # Title in quotations\n",
    "                    lyrics = ' '.join(lines[4:]).strip() # Lyrics start on line 4\n",
    "                    lyrics = ' '.join(lyrics.split()) # Make lyrics space-separated only\n",
    "                    lyrics = lyrics.translate(sans_punct) # Remove punctuation\n",
    "                    lyrics = lyrics.lower() # Normalize text to lower case\n",
    "                    data.append([artist_folder, song_title, lyrics])\n",
    "df = pd.DataFrame(data, columns=['artist', 'song', 'lyrics'])\n",
    "df.set_index(['artist', 'song'], inplace=True)\n",
    "                    "
   ]
  },
  {
   "cell_type": "markdown",
   "id": "72af4dba-7a64-400d-8be0-815d480ec866",
   "metadata": {},
   "source": [
    "#### Verify output"
   ]
  },
  {
   "cell_type": "code",
   "execution_count": 7,
   "id": "732e2972-5cc9-450c-b181-36326e24f2e3",
   "metadata": {},
   "outputs": [
    {
     "data": {
      "text/html": [
       "<div>\n",
       "<style scoped>\n",
       "    .dataframe tbody tr th:only-of-type {\n",
       "        vertical-align: middle;\n",
       "    }\n",
       "\n",
       "    .dataframe tbody tr th {\n",
       "        vertical-align: top;\n",
       "    }\n",
       "\n",
       "    .dataframe thead th {\n",
       "        text-align: right;\n",
       "    }\n",
       "</style>\n",
       "<table border=\"1\" class=\"dataframe\">\n",
       "  <thead>\n",
       "    <tr style=\"text-align: right;\">\n",
       "      <th></th>\n",
       "      <th></th>\n",
       "      <th>lyrics</th>\n",
       "    </tr>\n",
       "    <tr>\n",
       "      <th>artist</th>\n",
       "      <th>song</th>\n",
       "      <th></th>\n",
       "    </tr>\n",
       "  </thead>\n",
       "  <tbody>\n",
       "    <tr>\n",
       "      <th rowspan=\"5\" valign=\"top\">robyn</th>\n",
       "      <th>Include Me Out</th>\n",
       "      <td>it is really very simple just a single pulse r...</td>\n",
       "    </tr>\n",
       "    <tr>\n",
       "      <th>Electric</th>\n",
       "      <td>electric its electric its a natural high elect...</td>\n",
       "    </tr>\n",
       "    <tr>\n",
       "      <th>Beach 2K20</th>\n",
       "      <td>so you wanna go out how you gonna get there ok...</td>\n",
       "    </tr>\n",
       "    <tr>\n",
       "      <th>Love Kills</th>\n",
       "      <td>if youre looking for love get a heart made of ...</td>\n",
       "    </tr>\n",
       "    <tr>\n",
       "      <th>Time Machine</th>\n",
       "      <td>hey what did i do cant believe the fit i just ...</td>\n",
       "    </tr>\n",
       "  </tbody>\n",
       "</table>\n",
       "</div>"
      ],
      "text/plain": [
       "                                                                  lyrics\n",
       "artist song                                                             \n",
       "robyn  Include Me Out  it is really very simple just a single pulse r...\n",
       "       Electric        electric its electric its a natural high elect...\n",
       "       Beach 2K20      so you wanna go out how you gonna get there ok...\n",
       "       Love Kills      if youre looking for love get a heart made of ...\n",
       "       Time Machine    hey what did i do cant believe the fit i just ..."
      ]
     },
     "execution_count": 7,
     "metadata": {},
     "output_type": "execute_result"
    }
   ],
   "source": [
    "df.head()"
   ]
  },
  {
   "cell_type": "markdown",
   "id": "06a56fc3-e9f9-47f1-a487-d690cdc6ab6f",
   "metadata": {},
   "source": [
    "### Read in Twitter data"
   ]
  },
  {
   "cell_type": "code",
   "execution_count": 8,
   "id": "debcac5a",
   "metadata": {},
   "outputs": [],
   "source": [
    "# Read in the twitter data\n",
    "twitter_path = os.path.join(data_location, twitter_folder)\n",
    "data = []\n",
    "for filename in os.listdir(twitter_path):\n",
    "    if filename.endswith(\"_data.txt\"):\n",
    "        file_path = os.path.join(twitter_path, filename)\n",
    "        desc_df = pd.read_csv(file_path, sep='\\t', on_bad_lines='skip')\n",
    "        if 'description' in desc_df.columns:\n",
    "            artist = filename.split('_')[0]\n",
    "            descriptions = desc_df['description'].tolist()\n",
    "            for description in descriptions:\n",
    "                data.append([artist, description])\n",
    "\n",
    "descriptions_df = pd.DataFrame(data, columns=['artist', 'description'])\n",
    "descriptions_df.set_index('artist', inplace=True)"
   ]
  },
  {
   "cell_type": "markdown",
   "id": "f12ca367-b40d-4b3c-ac94-8825309f55c2",
   "metadata": {},
   "source": [
    "#### Verify output"
   ]
  },
  {
   "cell_type": "code",
   "execution_count": 9,
   "id": "60466338-35cf-4d4d-9a6d-0cbd5bcfce66",
   "metadata": {},
   "outputs": [
    {
     "name": "stdout",
     "output_type": "stream",
     "text": [
      "artist\n",
      "cher                                                  NaN\n",
      "cher             𝙿𝚛𝚘𝚞𝚍 𝚜𝚞𝚙𝚙𝚘𝚛𝚝𝚎𝚛 𝚘𝚏 𝚖𝚎𝚜𝚜𝚢 𝚋𝚞𝚗𝚜 & 𝚕𝚎𝚐𝚐𝚒𝚗𝚐𝚜\n",
      "cher            163㎝／愛かっぷ💜26歳🍒 工〇好きな女の子💓 フォローしてくれたらDMします🧡\n",
      "cher                                                  csu\n",
      "cher    Writer @Washinformer @SpelmanCollege alumna #D...\n",
      "Name: description, dtype: object\n",
      "artist\n",
      "robynkonichiwa    I love chill •Facebook / Instagram / SoundClou...\n",
      "robynkonichiwa    books, movies, music, nature & TV shows. OG Sw...\n",
      "robynkonichiwa    (Am)auteur en herbe 🌱 - juriste en paille 🤡 - ...\n",
      "robynkonichiwa    This Twitter profile is full of sarcasm and ra...\n",
      "robynkonichiwa    Flora Youssef - Blogger & Founder Posting revi...\n",
      "Name: description, dtype: object\n"
     ]
    }
   ],
   "source": [
    "# Check dataframe was imported correctly\n",
    "print(descriptions_df.loc['cher']['description'].head())\n",
    "print(descriptions_df.loc['robynkonichiwa']['description'].head())"
   ]
  },
  {
   "cell_type": "markdown",
   "id": "6a5f3b12",
   "metadata": {},
   "source": [
    "## Data Cleaning\n",
    "\n",
    "Now clean and tokenize your data. Remove punctuation chacters (available in the `punctuation` object in the `string` library), split on whitespace, fold to lowercase, and remove stopwords. Store your cleaned data, which must be accessible as an interable for `descriptive_stats`, in new objects or in new columns in your data frame. \n",
    "\n"
   ]
  },
  {
   "cell_type": "code",
   "execution_count": 10,
   "id": "71c73d86",
   "metadata": {},
   "outputs": [],
   "source": [
    "punctuation = set(punctuation) # speeds up comparison"
   ]
  },
  {
   "cell_type": "markdown",
   "id": "7dfbccaf-52b9-4600-a4fe-53a0ab4e18f3",
   "metadata": {},
   "source": [
    "### Note:\n",
    "\n",
    "When coding, I imported and cleaned the lyrics in the same instance first before doing the same to the Twitter data, which will be handled in a combined and modified function to clean instead of at import like with lyrics data."
   ]
  },
  {
   "cell_type": "markdown",
   "id": "fc4e2f75-8667-4881-bf09-18a49b44c6ec",
   "metadata": {},
   "source": [
    "### Clean Twitter Data"
   ]
  },
  {
   "cell_type": "code",
   "execution_count": 11,
   "id": "b327033a",
   "metadata": {},
   "outputs": [],
   "source": [
    "# create your clean twitter data here\n",
    "stop_words = set(stopwords.words('english'))\n",
    "punctuation = string.punctuation + \"'\" # Apostrophe not included by default, so add\n",
    "sans_punct = str.maketrans('', '', string.punctuation) # Clean punctuation\n",
    "\n",
    "def clean_desc(text):\n",
    "    if not isinstance(text, str): # Check if text is a string\n",
    "        return '' # Else return empty string\n",
    "    text = text.translate(sans_punct) # Remove punctuation\n",
    "    text = text.lower() # Normalize to lowercase\n",
    "    words = text.split() # Split text into words for tokenization to remove stopwords\n",
    "    sans_stop_words = [word for word in words if word.lower() not in stop_words] # Remove stopwords\n",
    "    return ' '.join(sans_stop_words) # Return to single object now that stopwords are removed\n",
    "\n",
    "# Apply clean_desc to the 'description' column of descriptions_df\n",
    "descriptions_df['description'] = descriptions_df['description'].astype(str)\n",
    "descriptions_df['description'] = descriptions_df['description'].apply(clean_desc)"
   ]
  },
  {
   "cell_type": "markdown",
   "id": "9db6c198-b6ee-40fc-99bf-828879208e66",
   "metadata": {},
   "source": [
    "#### Verify output"
   ]
  },
  {
   "cell_type": "code",
   "execution_count": 12,
   "id": "7f084720-3e7e-43c3-9b82-4ed4a4fc1209",
   "metadata": {},
   "outputs": [
    {
     "name": "stdout",
     "output_type": "stream",
     "text": [
      "artist\n",
      "cher                                                  nan\n",
      "cher               𝙿𝚛𝚘𝚞𝚍 𝚜𝚞𝚙𝚙𝚘𝚛𝚝𝚎𝚛 𝚘𝚏 𝚖𝚎𝚜𝚜𝚢 𝚋𝚞𝚗𝚜 𝚕𝚎𝚐𝚐𝚒𝚗𝚐𝚜\n",
      "cher            163㎝／愛かっぷ💜26歳🍒 工〇好きな女の子💓 フォローしてくれたらdmします🧡\n",
      "cher                                                  csu\n",
      "cher    writer washinformer spelmancollege alumna dcna...\n",
      "Name: description, dtype: object\n",
      "artist\n",
      "robynkonichiwa    love chill •facebook instagram soundcloud ange...\n",
      "robynkonichiwa    books movies music nature tv shows og sweetee ...\n",
      "robynkonichiwa    amauteur en herbe 🌱 juriste en paille 🤡 ami de...\n",
      "robynkonichiwa    twitter profile full sarcasm rants occasional ...\n",
      "robynkonichiwa    flora youssef blogger founder posting review a...\n",
      "Name: description, dtype: object\n"
     ]
    }
   ],
   "source": [
    "# Check dataframe was cleaned correctly\n",
    "print(descriptions_df.loc['cher']['description'].head())\n",
    "print(descriptions_df.loc['robynkonichiwa']['description'].head())"
   ]
  },
  {
   "cell_type": "markdown",
   "id": "8deb0b52-0beb-4281-8cb1-9cc0deaabb3e",
   "metadata": {},
   "source": [
    "### Clean lyrics data"
   ]
  },
  {
   "cell_type": "markdown",
   "id": "dfd53100-6f40-493b-b551-95bb97c66421",
   "metadata": {},
   "source": [
    "### Note: \n",
    "\n",
    "On lyrics, I happened to already remove punctuation characters, split on whitespace, and fold to lowercase above during the data input section, so please refer to that section for three of the four cleaning tasks. I did not remove stopwords at this point of the notebook, which I will complete in this section as the only task remaining to clean the lyrics."
   ]
  },
  {
   "cell_type": "markdown",
   "id": "96a2bd6c-a4eb-4d33-b01d-aa7f6110185f",
   "metadata": {},
   "source": [
    "### Reference\n",
    "\n",
    "How to clean and preprocess text data with Pandas (3 examples). (2024, February 28). Sling Academy. Retrieved September 15, 2024, from https://www.slingacademy.com/article/how-to-clean-and-preprocess-text-data-with-pandas-3-examples/#Example_2_Removing_Stop_Words"
   ]
  },
  {
   "cell_type": "code",
   "execution_count": 13,
   "id": "e0f22e10",
   "metadata": {},
   "outputs": [
    {
     "data": {
      "text/html": [
       "<div>\n",
       "<style scoped>\n",
       "    .dataframe tbody tr th:only-of-type {\n",
       "        vertical-align: middle;\n",
       "    }\n",
       "\n",
       "    .dataframe tbody tr th {\n",
       "        vertical-align: top;\n",
       "    }\n",
       "\n",
       "    .dataframe thead th {\n",
       "        text-align: right;\n",
       "    }\n",
       "</style>\n",
       "<table border=\"1\" class=\"dataframe\">\n",
       "  <thead>\n",
       "    <tr style=\"text-align: right;\">\n",
       "      <th></th>\n",
       "      <th></th>\n",
       "      <th>lyrics</th>\n",
       "    </tr>\n",
       "    <tr>\n",
       "      <th>artist</th>\n",
       "      <th>song</th>\n",
       "      <th></th>\n",
       "    </tr>\n",
       "  </thead>\n",
       "  <tbody>\n",
       "    <tr>\n",
       "      <th rowspan=\"5\" valign=\"top\">robyn</th>\n",
       "      <th>Include Me Out</th>\n",
       "      <td>really simple single pulse repeated regular in...</td>\n",
       "    </tr>\n",
       "    <tr>\n",
       "      <th>Electric</th>\n",
       "      <td>electric electric natural high electric dont a...</td>\n",
       "    </tr>\n",
       "    <tr>\n",
       "      <th>Beach 2K20</th>\n",
       "      <td>wanna go gonna get ok call someone alright ok ...</td>\n",
       "    </tr>\n",
       "    <tr>\n",
       "      <th>Love Kills</th>\n",
       "      <td>youre looking love get heart made steel cus kn...</td>\n",
       "    </tr>\n",
       "    <tr>\n",
       "      <th>Time Machine</th>\n",
       "      <td>hey cant believe fit threw stupid wanted react...</td>\n",
       "    </tr>\n",
       "  </tbody>\n",
       "</table>\n",
       "</div>"
      ],
      "text/plain": [
       "                                                                  lyrics\n",
       "artist song                                                             \n",
       "robyn  Include Me Out  really simple single pulse repeated regular in...\n",
       "       Electric        electric electric natural high electric dont a...\n",
       "       Beach 2K20      wanna go gonna get ok call someone alright ok ...\n",
       "       Love Kills      youre looking love get heart made steel cus kn...\n",
       "       Time Machine    hey cant believe fit threw stupid wanted react..."
      ]
     },
     "execution_count": 13,
     "metadata": {},
     "output_type": "execute_result"
    }
   ],
   "source": [
    "stop_words = set(stopwords.words('english'))\n",
    "\n",
    "def remove_stopwords(lyrics):\n",
    "    words = lyrics.split()\n",
    "    filtered_words = [word for word in words if word.lower() not in stop_words]\n",
    "    return ' '.join(filtered_words)\n",
    "\n",
    "df['lyrics'] = df['lyrics'].apply(remove_stopwords)\n",
    "df.head()"
   ]
  },
  {
   "cell_type": "markdown",
   "id": "602aa3c6-3101-40e3-bdb0-a8d470e00234",
   "metadata": {},
   "source": [
    "#### Verified that punctuation, whitespace, and case, and stopwords handled on output for lyrics"
   ]
  },
  {
   "cell_type": "markdown",
   "id": "f2dd0179",
   "metadata": {},
   "source": [
    "## Basic Descriptive Statistics\n",
    "\n",
    "Call your `descriptive_stats` function on both your lyrics data and your twitter data and for both artists (four total calls). "
   ]
  },
  {
   "cell_type": "markdown",
   "id": "283c4c71-b443-4438-8608-9f71ea7e1f68",
   "metadata": {},
   "source": [
    "### Check index and define functions for different DataFrame data"
   ]
  },
  {
   "cell_type": "code",
   "execution_count": 14,
   "id": "5f355ecd-f29e-45d5-8c09-f3a14d55eaf0",
   "metadata": {},
   "outputs": [
    {
     "data": {
      "text/html": [
       "<div>\n",
       "<style scoped>\n",
       "    .dataframe tbody tr th:only-of-type {\n",
       "        vertical-align: middle;\n",
       "    }\n",
       "\n",
       "    .dataframe tbody tr th {\n",
       "        vertical-align: top;\n",
       "    }\n",
       "\n",
       "    .dataframe thead th {\n",
       "        text-align: right;\n",
       "    }\n",
       "</style>\n",
       "<table border=\"1\" class=\"dataframe\">\n",
       "  <thead>\n",
       "    <tr style=\"text-align: right;\">\n",
       "      <th></th>\n",
       "      <th>description</th>\n",
       "    </tr>\n",
       "    <tr>\n",
       "      <th>artist</th>\n",
       "      <th></th>\n",
       "    </tr>\n",
       "  </thead>\n",
       "  <tbody>\n",
       "    <tr>\n",
       "      <th>cher</th>\n",
       "      <td>nan</td>\n",
       "    </tr>\n",
       "    <tr>\n",
       "      <th>cher</th>\n",
       "      <td>𝙿𝚛𝚘𝚞𝚍 𝚜𝚞𝚙𝚙𝚘𝚛𝚝𝚎𝚛 𝚘𝚏 𝚖𝚎𝚜𝚜𝚢 𝚋𝚞𝚗𝚜 𝚕𝚎𝚐𝚐𝚒𝚗𝚐𝚜</td>\n",
       "    </tr>\n",
       "    <tr>\n",
       "      <th>cher</th>\n",
       "      <td>163㎝／愛かっぷ💜26歳🍒 工〇好きな女の子💓 フォローしてくれたらdmします🧡</td>\n",
       "    </tr>\n",
       "    <tr>\n",
       "      <th>cher</th>\n",
       "      <td>csu</td>\n",
       "    </tr>\n",
       "    <tr>\n",
       "      <th>cher</th>\n",
       "      <td>writer washinformer spelmancollege alumna dcna...</td>\n",
       "    </tr>\n",
       "    <tr>\n",
       "      <th>...</th>\n",
       "      <td>...</td>\n",
       "    </tr>\n",
       "    <tr>\n",
       "      <th>robynkonichiwa</th>\n",
       "      <td>singer songs type 1 diabetic tired jakelgiles ...</td>\n",
       "    </tr>\n",
       "    <tr>\n",
       "      <th>robynkonichiwa</th>\n",
       "      <td>dadx2 conarch photographer dk stemgrønnest grø...</td>\n",
       "    </tr>\n",
       "    <tr>\n",
       "      <th>robynkonichiwa</th>\n",
       "      <td>year change life still year ✨😌</td>\n",
       "    </tr>\n",
       "    <tr>\n",
       "      <th>robynkonichiwa</th>\n",
       "      <td>head consumer mango made melbourne ramblings</td>\n",
       "    </tr>\n",
       "    <tr>\n",
       "      <th>robynkonichiwa</th>\n",
       "      <td>stand right even stand alone</td>\n",
       "    </tr>\n",
       "  </tbody>\n",
       "</table>\n",
       "<p>4268141 rows × 1 columns</p>\n",
       "</div>"
      ],
      "text/plain": [
       "                                                      description\n",
       "artist                                                           \n",
       "cher                                                          nan\n",
       "cher                       𝙿𝚛𝚘𝚞𝚍 𝚜𝚞𝚙𝚙𝚘𝚛𝚝𝚎𝚛 𝚘𝚏 𝚖𝚎𝚜𝚜𝚢 𝚋𝚞𝚗𝚜 𝚕𝚎𝚐𝚐𝚒𝚗𝚐𝚜\n",
       "cher                    163㎝／愛かっぷ💜26歳🍒 工〇好きな女の子💓 フォローしてくれたらdmします🧡\n",
       "cher                                                          csu\n",
       "cher            writer washinformer spelmancollege alumna dcna...\n",
       "...                                                           ...\n",
       "robynkonichiwa  singer songs type 1 diabetic tired jakelgiles ...\n",
       "robynkonichiwa  dadx2 conarch photographer dk stemgrønnest grø...\n",
       "robynkonichiwa                     year change life still year ✨😌\n",
       "robynkonichiwa       head consumer mango made melbourne ramblings\n",
       "robynkonichiwa                       stand right even stand alone\n",
       "\n",
       "[4268141 rows x 1 columns]"
      ]
     },
     "execution_count": 14,
     "metadata": {},
     "output_type": "execute_result"
    }
   ],
   "source": [
    "descriptions_df"
   ]
  },
  {
   "cell_type": "code",
   "execution_count": 15,
   "id": "f0bbedd9",
   "metadata": {},
   "outputs": [],
   "source": [
    "# calls to descriptive_stats here\n",
    "\n",
    "# Ensure DataFrame has the proper index\n",
    "if not df.index.names == ['artist', 'song']:\n",
    "    df.set_index(['artist', 'song'], inplace=True)\n",
    "\n",
    "# Need to combine all lyrics into a single object for descriptive_stats to work\n",
    "def lyrics_stats(df):\n",
    "    for artist in df.index.get_level_values('artist').unique():\n",
    "        lyrics = ' '. join(df.loc[artist]['lyrics'])\n",
    "        tokens = word_tokenize(lyrics)\n",
    "        print(f\"Lyrics statistics for {artist}:\")\n",
    "        descriptive_stats(tokens)\n",
    "\n",
    "# Ensure DataFrame has the proper index\n",
    "if descriptions_df.index.name != 'artist':\n",
    "    descriptions_df.set_index('artist', inplace = True)\n",
    "\n",
    "def twitter_stats(df):\n",
    "    for artist in descriptions_df.index.unique():\n",
    "        descriptions = ' '.join(descriptions_df.loc[artist]['description'])\n",
    "        tokens = word_tokenize(descriptions)\n",
    "        print(f\"Twitter statistics for {artist}:\")\n",
    "        descriptive_stats(tokens)"
   ]
  },
  {
   "cell_type": "markdown",
   "id": "50d60c8a-06aa-47c9-b772-d53ed67ce28b",
   "metadata": {},
   "source": [
    "### Call lyrics_stats and twitter_stats for each unique artist (4 total)"
   ]
  },
  {
   "cell_type": "code",
   "execution_count": 16,
   "id": "782afa80-bd42-49f8-84f0-41fc8c017eb1",
   "metadata": {},
   "outputs": [
    {
     "name": "stdout",
     "output_type": "stream",
     "text": [
      "Lyrics statistics for robyn:\n",
      "There are 15246 tokens in the data.\n",
      "There are 2139 unique tokens in the data.\n",
      "There are 72804 characters in the data.\n",
      "The lexical diversity is 0.140 in the data.\n",
      "The five most common tokens are:\n",
      "know: 305\n",
      "im: 299\n",
      "dont: 297\n",
      "got: 274\n",
      "love: 269\n",
      "\n",
      "\n",
      "Lyrics statistics for cher:\n",
      "There are 35722 tokens in the data.\n",
      "There are 3687 unique tokens in the data.\n",
      "There are 169244 characters in the data.\n",
      "The lexical diversity is 0.103 in the data.\n",
      "The five most common tokens are:\n",
      "love: 966\n",
      "im: 511\n",
      "know: 480\n",
      "dont: 430\n",
      "na: 348\n",
      "\n",
      "\n",
      "None\n",
      "Twitter statistics for cher:\n",
      "There are 18331271 tokens in the data.\n",
      "There are 1677532 unique tokens in the data.\n",
      "There are 101904876 characters in the data.\n",
      "The lexical diversity is 0.092 in the data.\n",
      "The five most common tokens are:\n",
      "nan: 1953973\n",
      "love: 214807\n",
      "im: 139117\n",
      "life: 123768\n",
      "music: 88236\n",
      "\n",
      "\n",
      "Twitter statistics for robynkonichiwa:\n",
      "There are 1717799 tokens in the data.\n",
      "There are 268638 unique tokens in the data.\n",
      "There are 9891691 characters in the data.\n",
      "The lexical diversity is 0.156 in the data.\n",
      "The five most common tokens are:\n",
      "nan: 164845\n",
      "music: 15178\n",
      "love: 11706\n",
      "im: 9063\n",
      "och: 7923\n",
      "\n",
      "\n",
      "None\n"
     ]
    }
   ],
   "source": [
    "print(lyrics_stats(df))\n",
    "print(twitter_stats(descriptions_df))"
   ]
  },
  {
   "cell_type": "markdown",
   "id": "46294409",
   "metadata": {},
   "source": [
    "Q: How do you think the \"top 5 words\" would be different if we left stopwords in the data? \n",
    "\n",
    "A: Leaving the top 5 words would limit the usefulness of being able to identify \"rare\" words, which may lead to underfitting the corpus due to high-frequency words. Removing these words increases the likelihood that we will find more unique words that are representative of the corpus.\n",
    "\n",
    "---\n",
    "\n",
    "Q: What were your prior beliefs about the lexical diversity between the artists? Does the difference (or lack thereof) in lexical diversity between the artists conform to your prior beliefs? \n",
    "\n",
    "A: Prior beliefs about lexical diversity would be that a lower amount of it would suggest a greater use of repeated refrains or phrases in a given song. As I am using the default corpus containing songs from Cher and Robyn, I am not familiar with either of their works. I would assume a priori that artists with a corpus of older songs would have more diversity due to the relative ubiquity of the internet that might make newer songs more similar or with more repeated token usage and patterns of use. This pattern holds true with song lyrics, but does not follow with their respective Twitter follower data.\n"
   ]
  },
  {
   "cell_type": "markdown",
   "id": "4d4e1ac1",
   "metadata": {},
   "source": [
    "\n",
    "## Specialty Statistics\n",
    "\n",
    "The descriptive statistics we have calculated are quite generic. You will now calculate a handful of statistics tailored to these data.\n",
    "\n",
    "1. Ten most common emojis by artist in the twitter descriptions.\n",
    "1. Ten most common hashtags by artist in the twitter descriptions.\n",
    "1. Five most common words in song titles by artist. \n",
    "1. For each artist, a histogram of song lengths (in terms of number of tokens) \n",
    "\n",
    "We can use the `emoji` library to help us identify emojis and you have been given a function to help you.\n"
   ]
  },
  {
   "cell_type": "code",
   "execution_count": 17,
   "id": "753a5a3e",
   "metadata": {},
   "outputs": [],
   "source": [
    "assert(emoji.is_emoji(\"❤️\"))\n",
    "assert(not emoji.is_emoji(\":-)\"))"
   ]
  },
  {
   "cell_type": "markdown",
   "id": "87d952c1-4cf1-4e4c-816c-3f834d00fe6a",
   "metadata": {},
   "source": [
    "### Reference\n",
    "\n",
    "Emoji (n.d.). Readthedocs. Retrieved September 16, 2024, from https://emoji-python.readthedocs.io/en/stable/"
   ]
  },
  {
   "cell_type": "markdown",
   "id": "986fc4c0",
   "metadata": {},
   "source": [
    "### Emojis 😁\n",
    "\n",
    "What are the ten most common emojis by artist in the twitter descriptions? \n"
   ]
  },
  {
   "cell_type": "code",
   "execution_count": 18,
   "id": "269cd433",
   "metadata": {},
   "outputs": [],
   "source": [
    "# Check to see if text contains an element in emoji.EMOJI_DATA dictionary\n",
    "def extract_emoji(text):\n",
    "    return [e for e in text if e in emoji.EMOJI_DATA]\n",
    "\n",
    "def top_ten_emoji_by_artist(df, column='description', num_emojis=10):\n",
    "    artist_emoji = {}\n",
    "    for artist in df.index.unique():\n",
    "        descriptions = ' '.join(df.loc[artist][column]) # Combine descriptions by artist\n",
    "        emojis = extract_emoji(descriptions) # Extract emojis from descriptions\n",
    "        emoji_counter = Counter(emojis) # Map each emoji to their total count\n",
    "        top_emojis = emoji_counter.most_common(num_emojis) # Gather top emojis\n",
    "        artist_emoji[artist] = top_emojis # Store top emojis by artist\n",
    "    return artist_emoji"
   ]
  },
  {
   "cell_type": "markdown",
   "id": "5b81ef4b-caba-4160-837d-1811a2eb37d7",
   "metadata": {},
   "source": [
    "#### Verify output / Find results"
   ]
  },
  {
   "cell_type": "code",
   "execution_count": 19,
   "id": "056a9a5d-107c-4357-b15a-aead72e9bc34",
   "metadata": {},
   "outputs": [
    {
     "data": {
      "text/plain": [
       "{'cher': [('❤', 79373),\n",
       "  ('🌈', 47795),\n",
       "  ('♥', 34239),\n",
       "  ('🏳', 33591),\n",
       "  ('✨', 29715),\n",
       "  ('💙', 21498),\n",
       "  ('🏻', 20970),\n",
       "  ('🌊', 20319),\n",
       "  ('✌', 16876),\n",
       "  ('💜', 16607)],\n",
       " 'robynkonichiwa': [('❤', 4808),\n",
       "  ('🌈', 4702),\n",
       "  ('🏳', 3539),\n",
       "  ('♥', 3117),\n",
       "  ('✨', 2240),\n",
       "  ('🏻', 1498),\n",
       "  ('✌', 1194),\n",
       "  ('🏼', 1145),\n",
       "  ('♀', 848),\n",
       "  ('💙', 818)]}"
      ]
     },
     "execution_count": 19,
     "metadata": {},
     "output_type": "execute_result"
    }
   ],
   "source": [
    "top_ten_emoji_by_artist(descriptions_df)"
   ]
  },
  {
   "cell_type": "markdown",
   "id": "bab9b770",
   "metadata": {},
   "source": [
    "### Hashtags\n",
    "\n",
    "What are the ten most common hashtags by artist in the twitter descriptions? \n"
   ]
  },
  {
   "cell_type": "markdown",
   "id": "228d8822-19a8-4766-b429-aebf23407e8a",
   "metadata": {},
   "source": [
    "#### Check to see if punctuation has '#' by default"
   ]
  },
  {
   "cell_type": "code",
   "execution_count": 20,
   "id": "07c396f1",
   "metadata": {},
   "outputs": [
    {
     "data": {
      "text/plain": [
       "'!\"#$%&\\'()*+,-./:;<=>?@[\\\\]^_`{|}~\\''"
      ]
     },
     "execution_count": 20,
     "metadata": {},
     "output_type": "execute_result"
    }
   ],
   "source": [
    "# Your code here\n",
    "punctuation"
   ]
  },
  {
   "cell_type": "markdown",
   "id": "66fa6b4a-568c-468e-b469-dc397a9087e7",
   "metadata": {},
   "source": [
    "As suspected, '#' is included by default and so was removed. The following is to re-constitute the corpus with the original # in place."
   ]
  },
  {
   "cell_type": "markdown",
   "id": "d56b3211-479c-4923-aded-0fff0af41afa",
   "metadata": {},
   "source": [
    "#### Reconstitute original Twitter data with '#' in place"
   ]
  },
  {
   "cell_type": "code",
   "execution_count": 21,
   "id": "614e1ad8-1a28-441c-acd8-ec2d0e7ede36",
   "metadata": {},
   "outputs": [],
   "source": [
    "# COPY. From earlier \"Read in Twitter data\" section to read data before cleaning\n",
    "twitter_path = os.path.join(data_location, twitter_folder)\n",
    "data = []\n",
    "for filename in os.listdir(twitter_path):\n",
    "    if filename.endswith(\"_data.txt\"):\n",
    "        file_path = os.path.join(twitter_path, filename)\n",
    "        desc_df = pd.read_csv(file_path, sep='\\t', on_bad_lines='skip')\n",
    "        if 'description' in desc_df.columns:\n",
    "            artist = filename.split('_')[0]\n",
    "            descriptions = desc_df['description'].tolist()\n",
    "            for description in descriptions:\n",
    "                data.append([artist, description])\n",
    "\n",
    "descriptions_df = pd.DataFrame(data, columns=['artist', 'description'])\n",
    "descriptions_df.set_index('artist', inplace=True)"
   ]
  },
  {
   "cell_type": "markdown",
   "id": "780846d1-162d-45ad-8dc8-e8b68fc8ffb7",
   "metadata": {},
   "source": [
    "#### Use top_ten_emoji_by_artist function as template"
   ]
  },
  {
   "cell_type": "code",
   "execution_count": 22,
   "id": "311aa8b4-6c9f-4fd6-89c0-bd5214adc868",
   "metadata": {},
   "outputs": [
    {
     "data": {
      "text/plain": [
       "{'cher': [('BLM', 9532),\n",
       "  ('Resist', 6032),\n",
       "  ('BlackLivesMatter', 4675),\n",
       "  ('resist', 3793),\n",
       "  ('FBR', 3238),\n",
       "  ('TheResistance', 2992),\n",
       "  ('blacklivesmatter', 2645),\n",
       "  ('1', 2633),\n",
       "  ('Resistance', 1915),\n",
       "  ('RESIST', 1821)],\n",
       " 'robynkonichiwa': [('BlackLivesMatter', 337),\n",
       "  ('BLM', 307),\n",
       "  ('blacklivesmatter', 208),\n",
       "  ('1', 199),\n",
       "  ('music', 174),\n",
       "  ('Music', 113),\n",
       "  ('EDM', 86),\n",
       "  ('LGBTQ', 75),\n",
       "  ('TeamFollowBack', 59),\n",
       "  ('blm', 56)]}"
      ]
     },
     "execution_count": 22,
     "metadata": {},
     "output_type": "execute_result"
    }
   ],
   "source": [
    "def extract_hash(text):\n",
    "    return re.findall(r'#(\\w+)', text) # Return all tokens that start with '#' w/o '#'\n",
    "def top_ten_hash_by_artist(df, column='description', num_hash=10):\n",
    "    artist_hashtags = {}\n",
    "    for artist in df.index.unique():\n",
    "        descriptions = ' '.join(df.loc[artist, column].astype(str)) # Combine - single string\n",
    "        hash = extract_hash(descriptions) # Extract hashtags from descriptions\n",
    "        hash_counter = Counter(hash) # Map each hashtag to its total count\n",
    "        top_hash = hash_counter.most_common(num_hash) # Gather top hashtags\n",
    "        artist_hashtags[artist] = top_hash # Store top hashtags by artist\n",
    "    return artist_hashtags\n",
    "\n",
    "top_ten_hash_by_artist(descriptions_df)"
   ]
  },
  {
   "cell_type": "markdown",
   "id": "d10f21d5",
   "metadata": {},
   "source": [
    "### Song Titles\n",
    "\n",
    "What are the five most common words in song titles by artist? The song titles should be on the first line of the lyrics pages, so if you have kept the raw file contents around, you will not need to re-read the data.\n"
   ]
  },
  {
   "cell_type": "markdown",
   "id": "33a01dd8-4254-49d8-8fd8-65ce3086e868",
   "metadata": {},
   "source": [
    "#### Normalize and clean the song titles"
   ]
  },
  {
   "cell_type": "code",
   "execution_count": 23,
   "id": "04f50ddc-6edd-4fb0-87c6-3510124a3c36",
   "metadata": {},
   "outputs": [
    {
     "data": {
      "text/html": [
       "<div>\n",
       "<style scoped>\n",
       "    .dataframe tbody tr th:only-of-type {\n",
       "        vertical-align: middle;\n",
       "    }\n",
       "\n",
       "    .dataframe tbody tr th {\n",
       "        vertical-align: top;\n",
       "    }\n",
       "\n",
       "    .dataframe thead th {\n",
       "        text-align: right;\n",
       "    }\n",
       "</style>\n",
       "<table border=\"1\" class=\"dataframe\">\n",
       "  <thead>\n",
       "    <tr style=\"text-align: right;\">\n",
       "      <th></th>\n",
       "      <th>artist</th>\n",
       "      <th>song</th>\n",
       "      <th>lyrics</th>\n",
       "    </tr>\n",
       "  </thead>\n",
       "  <tbody>\n",
       "    <tr>\n",
       "      <th>0</th>\n",
       "      <td>robyn</td>\n",
       "      <td>include</td>\n",
       "      <td>really simple single pulse repeated regular in...</td>\n",
       "    </tr>\n",
       "    <tr>\n",
       "      <th>1</th>\n",
       "      <td>robyn</td>\n",
       "      <td>electric</td>\n",
       "      <td>electric electric natural high electric dont a...</td>\n",
       "    </tr>\n",
       "    <tr>\n",
       "      <th>2</th>\n",
       "      <td>robyn</td>\n",
       "      <td>beach 2k20</td>\n",
       "      <td>wanna go gonna get ok call someone alright ok ...</td>\n",
       "    </tr>\n",
       "    <tr>\n",
       "      <th>3</th>\n",
       "      <td>robyn</td>\n",
       "      <td>love kills</td>\n",
       "      <td>youre looking love get heart made steel cus kn...</td>\n",
       "    </tr>\n",
       "    <tr>\n",
       "      <th>4</th>\n",
       "      <td>robyn</td>\n",
       "      <td>time machine</td>\n",
       "      <td>hey cant believe fit threw stupid wanted react...</td>\n",
       "    </tr>\n",
       "  </tbody>\n",
       "</table>\n",
       "</div>"
      ],
      "text/plain": [
       "  artist          song                                             lyrics\n",
       "0  robyn       include  really simple single pulse repeated regular in...\n",
       "1  robyn      electric  electric electric natural high electric dont a...\n",
       "2  robyn    beach 2k20  wanna go gonna get ok call someone alright ok ...\n",
       "3  robyn    love kills  youre looking love get heart made steel cus kn...\n",
       "4  robyn  time machine  hey cant believe fit threw stupid wanted react..."
      ]
     },
     "execution_count": 23,
     "metadata": {},
     "output_type": "execute_result"
    }
   ],
   "source": [
    "# Change index so the 'song' index is accessible as a column\n",
    "df_song = df.reset_index()\n",
    "df_song['song'] = df_song['song'].str.lower() # Normalize to lowercase\n",
    "df_song['song'] = df_song['song'].apply(clean_desc) # Use clean_desc to clean title\n",
    "df_song.head()"
   ]
  },
  {
   "cell_type": "markdown",
   "id": "7cd1b587-1fb6-433f-ad32-37eecd0f8732",
   "metadata": {},
   "source": [
    "#### Top five common words in song titles by artist\n",
    "Using top_ten_hash_by_artist as a template again"
   ]
  },
  {
   "cell_type": "code",
   "execution_count": 24,
   "id": "15a0ea5f-79e5-47f9-ab56-b15c2c594c50",
   "metadata": {},
   "outputs": [
    {
     "data": {
      "text/plain": [
       "{'robyn': [('love', 6), ('dont', 4), ('u', 4), ('hang', 3), ('tell', 3)],\n",
       " 'cher': [('love', 38), ('man', 12), ('song', 11), ('dont', 10), ('come', 7)]}"
      ]
     },
     "execution_count": 24,
     "metadata": {},
     "output_type": "execute_result"
    }
   ],
   "source": [
    "def top_five_title_words_by_artist(df, column='song', num_words=5):\n",
    "    artist_words = {}\n",
    "    for artist in df['artist'].unique():\n",
    "        titles = ' '.join(df.loc[df['artist'] == artist, column]) # Combine song titles by artist\n",
    "        words = word_tokenize(titles) # Tokenize titles\n",
    "        word_counter = Counter(words) # Map each word to its total count\n",
    "        top_words = word_counter.most_common(num_words) # Gather top words\n",
    "        artist_words[artist] = top_words # Store top words by artist\n",
    "    return artist_words\n",
    "\n",
    "top_five_title_words_by_artist(df_song)"
   ]
  },
  {
   "cell_type": "markdown",
   "id": "5dd4fd71",
   "metadata": {},
   "source": [
    "### Song Lengths\n",
    "\n",
    "For each artist, a histogram of song lengths (in terms of number of tokens). If you put the song lengths in a data frame with an artist column, matplotlib will make the plotting quite easy. An example is given to help you out. \n",
    "#### Commented out so that it does not overwrite the value of 'df' in memory"
   ]
  },
  {
   "cell_type": "code",
   "execution_count": 25,
   "id": "805a1e52",
   "metadata": {},
   "outputs": [],
   "source": [
    "#num_replicates = 1000\n",
    "\n",
    "#df = pd.DataFrame({\n",
    "#    \"artist\" : ['Artist 1'] * num_replicates + ['Artist 2']*num_replicates,\n",
    "#    \"length\" : np.concatenate((np.random.poisson(125,num_replicates),np.random.poisson(150,num_replicates)))\n",
    "#})\n",
    "\n",
    "#df.groupby('artist')['length'].plot(kind=\"hist\",density=True,alpha=0.5,legend=True)"
   ]
  },
  {
   "cell_type": "markdown",
   "id": "8fde9ebb",
   "metadata": {},
   "source": [
    "Since the lyrics may be stored with carriage returns or tabs, it may be useful to have a function that can collapse whitespace, using regular expressions, and be used for splitting. \n",
    "\n",
    "Q: What does the regular expression `'\\s+'` match on?\n",
    "\n",
    "A: This regular expression matches on one or more whitespace characters.\n"
   ]
  },
  {
   "cell_type": "code",
   "execution_count": 26,
   "id": "f0e34516",
   "metadata": {},
   "outputs": [],
   "source": [
    "collapse_whitespace = re.compile(r'\\s+')\n",
    "\n",
    "def tokenize_lyrics(lyric) : \n",
    "    \"\"\"strip and split on whitespace\"\"\"\n",
    "    return([item.lower() for item in collapse_whitespace.split(lyric)])"
   ]
  },
  {
   "cell_type": "code",
   "execution_count": 27,
   "id": "cfefeb36-1a81-481a-9a33-080b963820a4",
   "metadata": {},
   "outputs": [
    {
     "data": {
      "text/plain": [
       "Text(0, 0.5, 'Density')"
      ]
     },
     "execution_count": 27,
     "metadata": {},
     "output_type": "execute_result"
    },
    {
     "data": {
      "image/png": "[encoded data removed]",
      "text/plain": [
       "<Figure size 1000x600 with 1 Axes>"
      ]
     },
     "metadata": {},
     "output_type": "display_data"
    }
   ],
   "source": [
    "# Calculate each lyric by length and store as 'length' using function above\n",
    "df['length'] = df['lyrics'].apply(lambda x: len(tokenize_lyrics(x)))\n",
    "\n",
    "plt.figure(figsize=(10, 6))\n",
    "df.groupby('artist')['length'].plot(kind=\"hist\",density=True,alpha=0.5,legend=True)\n",
    "plt.title('Lyric Length Histogram by Artist')\n",
    "plt.xlabel('Number of Tokens / Lyric Length')\n",
    "plt.ylabel('Density')"
   ]
  }
 ],
 "metadata": {
  "kernelspec": {
   "display_name": "Python 3 (ipykernel)",
   "language": "python",
   "name": "python3"
  },
  "language_info": {
   "codemirror_mode": {
    "name": "ipython",
    "version": 3
   },
   "file_extension": ".py",
   "mimetype": "text/x-python",
   "name": "python",
   "nbconvert_exporter": "python",
   "pygments_lexer": "ipython3",
   "version": "3.11.5"
  }
 },
 "nbformat": 4,
 "nbformat_minor": 5
}
